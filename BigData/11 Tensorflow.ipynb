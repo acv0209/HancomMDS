{
 "cells": [
  {
   "cell_type": "code",
   "execution_count": 4,
   "metadata": {},
   "outputs": [],
   "source": [
    "import tensorflow as tf"
   ]
  },
  {
   "cell_type": "markdown",
   "metadata": {},
   "source": [
    "## 텐서의 기본 용어\n",
    "### 오퍼레이션\n",
    "### 텐서\n",
    "### 세션\n",
    "### 변수 "
   ]
  },
  {
   "cell_type": "code",
   "execution_count": 5,
   "metadata": {},
   "outputs": [
    {
     "name": "stdout",
     "output_type": "stream",
     "text": [
      "b'Hello, Tensorflow!'\n"
     ]
    }
   ],
   "source": [
    "hello = tf.constant('Hello, Tensorflow!')\n",
    "sess = tf.Session()\n",
    "print(sess.run(hello))"
   ]
  },
  {
   "cell_type": "markdown",
   "metadata": {},
   "source": [
    "## 텐서플로우 테스트"
   ]
  },
  {
   "cell_type": "code",
   "execution_count": 12,
   "metadata": {},
   "outputs": [
    {
     "name": "stdout",
     "output_type": "stream",
     "text": [
      "1\n",
      "2\n",
      "3\n",
      "4\n",
      "5\n",
      "6\n",
      "7\n",
      "8\n",
      "9\n",
      "10\n"
     ]
    }
   ],
   "source": [
    "import tensorflow as tf \n",
    "state = tf.Variable(0, name='counter')\n",
    "a = tf.constant(1)\n",
    "b = tf.add(state, a)\n",
    "update = tf.assign(state, b)\n",
    "\n",
    "init = tf.initialize_all_variables()\n",
    "\n",
    "with tf.Session() as sess:\n",
    "    sess.run(init)\n",
    "    for i in range(10):\n",
    "        print(sess.run(update))"
   ]
  },
  {
   "cell_type": "code",
   "execution_count": 42,
   "metadata": {},
   "outputs": [
    {
     "data": {
      "text/plain": [
       "array([ 0.52171696,  0.26759941,  0.37910895,  0.53703849,  0.31040859,\n",
       "        0.26117152,  0.20541345,  0.46955062,  0.1052751 ,  0.17848285,\n",
       "        0.34795376,  0.29106196,  0.09567597,  0.19398266,  0.35817791,\n",
       "        0.01426577,  0.42153864,  0.5014535 ,  0.26883415,  0.45990388,\n",
       "        0.31455424,  0.38359337,  0.20122323,  0.2968655 ,  0.16148778,\n",
       "        0.41603446,  0.29159603,  0.50643882,  0.11280324,  0.56494617,\n",
       "        0.0156111 , -0.12297782,  0.36576319,  0.05297689,  0.30720799,\n",
       "        0.1147295 ,  0.1068321 ,  0.46751015,  0.31407857,  0.38037591,\n",
       "        0.34692317,  0.31190549,  0.40763077,  0.2935697 ,  0.4644041 ,\n",
       "        0.23484952,  0.43404405,  0.06180912,  0.17912488, -0.2250175 ,\n",
       "        0.43171604,  0.4148194 ,  0.37361358,  0.43761151,  0.66437762,\n",
       "        0.18503549,  0.29435431,  0.23904722,  0.33434758,  0.13543641,\n",
       "        0.11101067,  0.43411525, -0.12887526,  0.48223552,  0.29707773,\n",
       "        0.11290433,  0.16721242,  0.47766013,  0.33553795,  0.51706505,\n",
       "        0.14871792,  0.14980079,  0.3868717 ,  0.61767577, -0.05265647,\n",
       "        0.24113802,  0.64676298,  0.43953965,  0.65610621,  0.26748879,\n",
       "        0.23958374,  0.18467694,  0.36853049,  0.45221074, -0.05016035,\n",
       "        0.27427029,  0.09841504,  0.08282192,  0.4289034 ,  0.46309044,\n",
       "        0.48099352,  0.56091688,  0.12194977,  0.41263517,  0.61861546,\n",
       "        0.48785444,  0.15197544,  0.08883668, -0.14493483,  0.1466294 ])"
      ]
     },
     "execution_count": 42,
     "metadata": {},
     "output_type": "execute_result"
    }
   ],
   "source": []
  },
  {
   "cell_type": "code",
   "execution_count": 45,
   "metadata": {},
   "outputs": [
    {
     "data": {
      "text/plain": [
       "(2, 100)"
      ]
     },
     "execution_count": 45,
     "metadata": {},
     "output_type": "execute_result"
    }
   ],
   "source": [
    "import tensorflow as tf \n",
    "import numpy as np\n",
    "\n",
    "x_data = np.float32(np.random.randn(2,100))\n",
    "y_data = np.dot([0.1, 0.2], x_data) + 0.3\n",
    "x_data.shape"
   ]
  },
  {
   "cell_type": "code",
   "execution_count": 46,
   "metadata": {},
   "outputs": [],
   "source": [
    "#수식 생성\n",
    "b = tf.Variable(tf.zeros([1]))\n",
    "weights = tf.Variable(tf.random_uniform([1,2], -1.0, 1.0))\n",
    "y = tf.matmul(weights, x_data) + b\n",
    "\n",
    "loss = tf.reduce_mean(tf.square(y - y_data))\n",
    "opt = tf.train.GradientDescentOptimizer(0.01)\n",
    "train = opt.minimize(loss)"
   ]
  },
  {
   "cell_type": "code",
   "execution_count": 53,
   "metadata": {},
   "outputs": [
    {
     "name": "stdout",
     "output_type": "stream",
     "text": [
      "0 : w = [[0.7133688  0.12093532]] b = [0.00661736] loss = Tensor(\"Mean:0\", shape=(), dtype=float32)\n",
      "10 : w = [[0.5971654  0.12751517]] b = [0.06533536] loss = Tensor(\"Mean:0\", shape=(), dtype=float32)\n",
      "20 : w = [[0.5031163  0.13426834]] b = [0.11239874] loss = Tensor(\"Mean:0\", shape=(), dtype=float32)\n",
      "30 : w = [[0.42697462 0.14092007]] b = [0.15010627] loss = Tensor(\"Mean:0\", shape=(), dtype=float32)\n",
      "40 : w = [[0.3653114 0.1472892]] b = [0.18030542] loss = Tensor(\"Mean:0\", shape=(), dtype=float32)\n",
      "50 : w = [[0.31535748 0.15326327]] b = [0.20448075] loss = Tensor(\"Mean:0\", shape=(), dtype=float32)\n",
      "60 : w = [[0.2748759  0.15877953]] b = [0.22382486] loss = Tensor(\"Mean:0\", shape=(), dtype=float32)\n",
      "70 : w = [[0.24205941 0.16381064]] b = [0.23929556] loss = Tensor(\"Mean:0\", shape=(), dtype=float32)\n",
      "80 : w = [[0.21544728 0.16835392]] b = [0.2516619] loss = Tensor(\"Mean:0\", shape=(), dtype=float32)\n",
      "90 : w = [[0.19385873 0.17242332]] b = [0.26154128] loss = Tensor(\"Mean:0\", shape=(), dtype=float32)\n",
      "100 : w = [[0.17633909 0.17604345]] b = [0.26942906] loss = Tensor(\"Mean:0\", shape=(), dtype=float32)\n",
      "110 : w = [[0.16211608 0.17924534]] b = [0.2757227] loss = Tensor(\"Mean:0\", shape=(), dtype=float32)\n",
      "120 : w = [[0.15056491 0.18206327]] b = [0.28074086] loss = Tensor(\"Mean:0\", shape=(), dtype=float32)\n",
      "130 : w = [[0.14117996 0.18453272]] b = [0.28473908] loss = Tensor(\"Mean:0\", shape=(), dtype=float32)\n",
      "140 : w = [[0.13355196 0.18668859]] b = [0.2879222] loss = Tensor(\"Mean:0\", shape=(), dtype=float32)\n",
      "150 : w = [[0.12734938 0.18856455]] b = [0.29045418] loss = Tensor(\"Mean:0\", shape=(), dtype=float32)\n",
      "160 : w = [[0.12230378 0.1901922 ]] b = [0.2924663] loss = Tensor(\"Mean:0\", shape=(), dtype=float32)\n",
      "170 : w = [[0.11819755 0.19160067]] b = [0.29406384] loss = Tensor(\"Mean:0\", shape=(), dtype=float32)\n",
      "180 : w = [[0.11485437 0.19281667]] b = [0.29533076] loss = Tensor(\"Mean:0\", shape=(), dtype=float32)\n",
      "190 : w = [[0.11213125 0.19386429]] b = [0.29633433] loss = Tensor(\"Mean:0\", shape=(), dtype=float32)\n"
     ]
    }
   ],
   "source": [
    "init = tf.initialize_all_variables()\n",
    "graph = dict()\n",
    "with tf.Session() as sess:\n",
    "    sess.run(init)\n",
    "    for step in range(200):\n",
    "        sess.run(train)\n",
    "        if step % 10 == 0:\n",
    "            print(\"{} : w = {} b = {} loss = {}\" .format(step, sess.run(weights), sess.run(b), loss))\n",
    "            graph[step] = sess.run(loss)"
   ]
  },
  {
   "cell_type": "code",
   "execution_count": 54,
   "metadata": {},
   "outputs": [
    {
     "data": {
      "text/plain": [
       "<matplotlib.axes._subplots.AxesSubplot at 0xf90fac8>"
      ]
     },
     "execution_count": 54,
     "metadata": {},
     "output_type": "execute_result"
    },
    {
     "data": {
      "image/png": "[encoded data removed]",
      "text/plain": [
       "<Figure size 432x288 with 1 Axes>"
      ]
     },
     "metadata": {},
     "output_type": "display_data"
    }
   ],
   "source": [
    "import pandas as pd \n",
    "%matplotlib inline \n",
    "\n",
    "pd.Series(graph).plot()"
   ]
  }
 ],
 "metadata": {
  "kernelspec": {
   "display_name": "Python 3",
   "language": "python",
   "name": "python3"
  },
  "language_info": {
   "codemirror_mode": {
    "name": "ipython",
    "version": 3
   },
   "file_extension": ".py",
   "mimetype": "text/x-python",
   "name": "python",
   "nbconvert_exporter": "python",
   "pygments_lexer": "ipython3",
   "version": "3.6.5"
  }
 },
 "nbformat": 4,
 "nbformat_minor": 2
}
