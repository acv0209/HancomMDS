{
 "cells": [
  {
   "cell_type": "markdown",
   "metadata": {},
   "source": [
    "## 1. numpy 행렬 연산"
   ]
  },
  {
   "cell_type": "code",
   "execution_count": 16,
   "metadata": {},
   "outputs": [
    {
     "name": "stdout",
     "output_type": "stream",
     "text": [
      "input1\n",
      " [[0 1]]\n",
      "weight1\n",
      " [[0 1]\n",
      " [2 3]]\n",
      "weight2\n",
      " [[0]\n",
      " [1]]\n"
     ]
    }
   ],
   "source": [
    "import numpy as np\n",
    "\n",
    "input1 = np.arange(2)\n",
    "weight1 = np.arange(4)\n",
    "weight2 = np.arange(2)\n",
    "input1.shape = (1,2)\n",
    "weight1.shape = (2,2)\n",
    "weight2.shape = (2,1)\n",
    "print('input1\\n', input1)\n",
    "print('weight1\\n', weight1)\n",
    "print('weight2\\n', weight2)"
   ]
  },
  {
   "cell_type": "code",
   "execution_count": 19,
   "metadata": {},
   "outputs": [
    {
     "data": {
      "text/plain": [
       "array([[2, 3]])"
      ]
     },
     "execution_count": 19,
     "metadata": {},
     "output_type": "execute_result"
    }
   ],
   "source": [
    "output1 = np.dot(input1, weight1)\n",
    "output1"
   ]
  },
  {
   "cell_type": "code",
   "execution_count": 20,
   "metadata": {},
   "outputs": [
    {
     "data": {
      "text/plain": [
       "array([[3]])"
      ]
     },
     "execution_count": 20,
     "metadata": {},
     "output_type": "execute_result"
    }
   ],
   "source": [
    "output2 = np.dot(output1, weight2)\n",
    "output2"
   ]
  },
  {
   "cell_type": "markdown",
   "metadata": {},
   "source": [
    "## 2. step 함수"
   ]
  },
  {
   "cell_type": "code",
   "execution_count": 21,
   "metadata": {
    "collapsed": true
   },
   "outputs": [],
   "source": [
    "def step(x):\n",
    "    if x < 0:\n",
    "        return 0\n",
    "    else :\n",
    "        return 1"
   ]
  },
  {
   "cell_type": "code",
   "execution_count": 24,
   "metadata": {},
   "outputs": [
    {
     "data": {
      "text/plain": [
       "1"
      ]
     },
     "execution_count": 24,
     "metadata": {},
     "output_type": "execute_result"
    }
   ],
   "source": [
    "step(1)"
   ]
  },
  {
   "cell_type": "code",
   "execution_count": 25,
   "metadata": {
    "scrolled": true
   },
   "outputs": [
    {
     "data": {
      "text/plain": [
       "1"
      ]
     },
     "execution_count": 25,
     "metadata": {},
     "output_type": "execute_result"
    }
   ],
   "source": [
    "step(0.5)"
   ]
  },
  {
   "cell_type": "code",
   "execution_count": 28,
   "metadata": {},
   "outputs": [
    {
     "data": {
      "text/plain": [
       "0"
      ]
     },
     "execution_count": 28,
     "metadata": {},
     "output_type": "execute_result"
    }
   ],
   "source": [
    "step(-1)"
   ]
  },
  {
   "cell_type": "code",
   "execution_count": 62,
   "metadata": {},
   "outputs": [
    {
     "data": {
      "text/plain": [
       "array([ -1.00000000e+01,  -9.90000000e+00,  -9.80000000e+00,\n",
       "        -9.70000000e+00,  -9.60000000e+00,  -9.50000000e+00,\n",
       "        -9.40000000e+00,  -9.30000000e+00,  -9.20000000e+00,\n",
       "        -9.10000000e+00,  -9.00000000e+00,  -8.90000000e+00,\n",
       "        -8.80000000e+00,  -8.70000000e+00,  -8.60000000e+00,\n",
       "        -8.50000000e+00,  -8.40000000e+00,  -8.30000000e+00,\n",
       "        -8.20000000e+00,  -8.10000000e+00,  -8.00000000e+00,\n",
       "        -7.90000000e+00,  -7.80000000e+00,  -7.70000000e+00,\n",
       "        -7.60000000e+00,  -7.50000000e+00,  -7.40000000e+00,\n",
       "        -7.30000000e+00,  -7.20000000e+00,  -7.10000000e+00,\n",
       "        -7.00000000e+00,  -6.90000000e+00,  -6.80000000e+00,\n",
       "        -6.70000000e+00,  -6.60000000e+00,  -6.50000000e+00,\n",
       "        -6.40000000e+00,  -6.30000000e+00,  -6.20000000e+00,\n",
       "        -6.10000000e+00,  -6.00000000e+00,  -5.90000000e+00,\n",
       "        -5.80000000e+00,  -5.70000000e+00,  -5.60000000e+00,\n",
       "        -5.50000000e+00,  -5.40000000e+00,  -5.30000000e+00,\n",
       "        -5.20000000e+00,  -5.10000000e+00,  -5.00000000e+00,\n",
       "        -4.90000000e+00,  -4.80000000e+00,  -4.70000000e+00,\n",
       "        -4.60000000e+00,  -4.50000000e+00,  -4.40000000e+00,\n",
       "        -4.30000000e+00,  -4.20000000e+00,  -4.10000000e+00,\n",
       "        -4.00000000e+00,  -3.90000000e+00,  -3.80000000e+00,\n",
       "        -3.70000000e+00,  -3.60000000e+00,  -3.50000000e+00,\n",
       "        -3.40000000e+00,  -3.30000000e+00,  -3.20000000e+00,\n",
       "        -3.10000000e+00,  -3.00000000e+00,  -2.90000000e+00,\n",
       "        -2.80000000e+00,  -2.70000000e+00,  -2.60000000e+00,\n",
       "        -2.50000000e+00,  -2.40000000e+00,  -2.30000000e+00,\n",
       "        -2.20000000e+00,  -2.10000000e+00,  -2.00000000e+00,\n",
       "        -1.90000000e+00,  -1.80000000e+00,  -1.70000000e+00,\n",
       "        -1.60000000e+00,  -1.50000000e+00,  -1.40000000e+00,\n",
       "        -1.30000000e+00,  -1.20000000e+00,  -1.10000000e+00,\n",
       "        -1.00000000e+00,  -9.00000000e-01,  -8.00000000e-01,\n",
       "        -7.00000000e-01,  -6.00000000e-01,  -5.00000000e-01,\n",
       "        -4.00000000e-01,  -3.00000000e-01,  -2.00000000e-01,\n",
       "        -1.00000000e-01,  -3.55271368e-14,   1.00000000e-01,\n",
       "         2.00000000e-01,   3.00000000e-01,   4.00000000e-01,\n",
       "         5.00000000e-01,   6.00000000e-01,   7.00000000e-01,\n",
       "         8.00000000e-01,   9.00000000e-01,   1.00000000e+00,\n",
       "         1.10000000e+00,   1.20000000e+00,   1.30000000e+00,\n",
       "         1.40000000e+00,   1.50000000e+00,   1.60000000e+00,\n",
       "         1.70000000e+00,   1.80000000e+00,   1.90000000e+00,\n",
       "         2.00000000e+00,   2.10000000e+00,   2.20000000e+00,\n",
       "         2.30000000e+00,   2.40000000e+00,   2.50000000e+00,\n",
       "         2.60000000e+00,   2.70000000e+00,   2.80000000e+00,\n",
       "         2.90000000e+00,   3.00000000e+00,   3.10000000e+00,\n",
       "         3.20000000e+00,   3.30000000e+00,   3.40000000e+00,\n",
       "         3.50000000e+00,   3.60000000e+00,   3.70000000e+00,\n",
       "         3.80000000e+00,   3.90000000e+00,   4.00000000e+00,\n",
       "         4.10000000e+00,   4.20000000e+00,   4.30000000e+00,\n",
       "         4.40000000e+00,   4.50000000e+00,   4.60000000e+00,\n",
       "         4.70000000e+00,   4.80000000e+00,   4.90000000e+00,\n",
       "         5.00000000e+00,   5.10000000e+00,   5.20000000e+00,\n",
       "         5.30000000e+00,   5.40000000e+00,   5.50000000e+00,\n",
       "         5.60000000e+00,   5.70000000e+00,   5.80000000e+00,\n",
       "         5.90000000e+00,   6.00000000e+00,   6.10000000e+00,\n",
       "         6.20000000e+00,   6.30000000e+00,   6.40000000e+00,\n",
       "         6.50000000e+00,   6.60000000e+00,   6.70000000e+00,\n",
       "         6.80000000e+00,   6.90000000e+00,   7.00000000e+00,\n",
       "         7.10000000e+00,   7.20000000e+00,   7.30000000e+00,\n",
       "         7.40000000e+00,   7.50000000e+00,   7.60000000e+00,\n",
       "         7.70000000e+00,   7.80000000e+00,   7.90000000e+00,\n",
       "         8.00000000e+00,   8.10000000e+00,   8.20000000e+00,\n",
       "         8.30000000e+00,   8.40000000e+00,   8.50000000e+00,\n",
       "         8.60000000e+00,   8.70000000e+00,   8.80000000e+00,\n",
       "         8.90000000e+00,   9.00000000e+00,   9.10000000e+00,\n",
       "         9.20000000e+00,   9.30000000e+00,   9.40000000e+00,\n",
       "         9.50000000e+00,   9.60000000e+00,   9.70000000e+00,\n",
       "         9.80000000e+00,   9.90000000e+00])"
      ]
     },
     "execution_count": 62,
     "metadata": {},
     "output_type": "execute_result"
    }
   ],
   "source": [
    "def step(x):\n",
    "    y = x.copy()\n",
    "    y[y >= 0] = 1\n",
    "    y[y < 0] = 0\n",
    "    return y\n",
    "    \n",
    "\n",
    "x = np.arange(-10,10,0.1)\n",
    "x"
   ]
  },
  {
   "cell_type": "code",
   "execution_count": 64,
   "metadata": {},
   "outputs": [
    {
     "data": {
      "text/plain": [
       "[<matplotlib.lines.Line2D at 0x16a34758e10>]"
      ]
     },
     "execution_count": 64,
     "metadata": {},
     "output_type": "execute_result"
    },
    {
     "data": {
      "image/png": "[encoded data removed]",
      "text/plain": [
       "<matplotlib.figure.Figure at 0x16a34473748>"
      ]
     },
     "metadata": {},
     "output_type": "display_data"
    }
   ],
   "source": [
    "import matplotlib.pyplot as plt\n",
    "%matplotlib inline \n",
    "plt.plot(x, step(x))"
   ]
  },
  {
   "cell_type": "code",
   "execution_count": 69,
   "metadata": {
    "scrolled": false
   },
   "outputs": [
    {
     "data": {
      "text/plain": [
       "[<matplotlib.lines.Line2D at 0x16a358e5ac8>]"
      ]
     },
     "execution_count": 69,
     "metadata": {},
     "output_type": "execute_result"
    },
    {
     "data": {
      "image/png": "[encoded data removed]",
      "text/plain": [
       "<matplotlib.figure.Figure at 0x16a348ba6d8>"
      ]
     },
     "metadata": {},
     "output_type": "display_data"
    }
   ],
   "source": [
    "y = step(1*x + 2)\n",
    "\n",
    "plt.plot(x, y)"
   ]
  },
  {
   "cell_type": "code",
   "execution_count": 72,
   "metadata": {},
   "outputs": [
    {
     "data": {
      "text/plain": [
       "[[0, 0, 0, 1, 'No'],\n",
       " [0, 1, 0, 1, 'No'],\n",
       " [1, 0, 0, 1, 'No'],\n",
       " [1, 1, 0, 1, 'Yes']]"
      ]
     },
     "execution_count": 72,
     "metadata": {},
     "output_type": "execute_result"
    }
   ],
   "source": [
    "# and_perceptron\n",
    "# 1 and 1 = 1\n",
    "# 1 and 0 = 0\n",
    "# 0 and 1 = 0\n",
    "# 0 and 0 = 0\n",
    "# y = w1 * a + w2 * b + bias\n",
    "#and_step()\n",
    "\n",
    "import pandas as pd\n",
    "\n",
    "weight1 = 0 # 0.5\n",
    "weight2 = 0 # 0.5\n",
    "bias = 0 # -1\n",
    "\n",
    "test_inputs = [(0, 0), (0, 1), (1, 0), (1, 1)]\n",
    "correct_outputs = [False, False, False, True]\n",
    "outputs = []\n",
    "\n",
    "for test_input, correct_output in zip(test_inputs, correct_outputs):\n",
    "    linear_combination = weight1 * test_input[0] + weight2 * test_input[1] + bias\n",
    "    output = int(linear_combination >= 0)\n",
    "    is_correct_string = 'Yes' if output == correct_output else 'No'\n",
    "    outputs.append([test_input[0], test_input[1], linear_combination, output, is_correct_string])\n",
    "    \n",
    "outputs"
   ]
  },
  {
   "cell_type": "code",
   "execution_count": 74,
   "metadata": {},
   "outputs": [
    {
     "data": {
      "text/plain": [
       "[[0, 0, -0.5, 0, 'Yes'],\n",
       " [0, 1, 0.0, 1, 'Yes'],\n",
       " [1, 0, 0.0, 1, 'Yes'],\n",
       " [1, 1, 0.5, 1, 'Yes']]"
      ]
     },
     "execution_count": 74,
     "metadata": {},
     "output_type": "execute_result"
    }
   ],
   "source": [
    "# or_perceptron\n",
    "# 1 or 1 = 1\n",
    "# 1 or 0 = 1\n",
    "# 0 or 1 = 1\n",
    "# 0 or 0 = 0\n",
    "# y = w1 * a + w2 * b + bias\n",
    "#and_step()\n",
    "\n",
    "import pandas as pd\n",
    "\n",
    "weight1 = 0.5\n",
    "weight2 = 0.5\n",
    "bias = -0.5\n",
    "\n",
    "test_inputs = [(0, 0), (0, 1), (1, 0), (1, 1)]\n",
    "correct_outputs = [False, True, True, True]\n",
    "outputs = []\n",
    "\n",
    "for test_input, correct_output in zip(test_inputs, correct_outputs):\n",
    "    linear_combination = weight1 * test_input[0] + weight2 * test_input[1] + bias\n",
    "    output = int(linear_combination >= 0)\n",
    "    is_correct_string = 'Yes' if output == correct_output else 'No'\n",
    "    outputs.append([test_input[0], test_input[1], linear_combination, output, is_correct_string])\n",
    "    \n",
    "outputs"
   ]
  },
  {
   "cell_type": "code",
   "execution_count": 78,
   "metadata": {},
   "outputs": [],
   "source": [
    "# not_perceptron\n",
    "def not_perceptron(x):\n",
    "    if x==1:\n",
    "        return 0\n",
    "    elif x == 0:\n",
    "        return 1"
   ]
  },
  {
   "cell_type": "code",
   "execution_count": null,
   "metadata": {
    "collapsed": true
   },
   "outputs": [],
   "source": []
  },
  {
   "cell_type": "code",
   "execution_count": 79,
   "metadata": {},
   "outputs": [
    {
     "data": {
      "text/plain": [
       "[<matplotlib.lines.Line2D at 0x16a3662bd68>]"
      ]
     },
     "execution_count": 79,
     "metadata": {},
     "output_type": "execute_result"
    },
    {
     "data": {
      "image/png": "[encoded data removed]",
      "text/plain": [
       "<matplotlib.figure.Figure at 0x16a36584be0>"
      ]
     },
     "metadata": {},
     "output_type": "display_data"
    }
   ],
   "source": [
    "def sigmoid(x):\n",
    "    return 1/(1+np.exp(-x))\n",
    "\n",
    "x = np.arange(-10,10,0.1)\n",
    "plt.plot(x,sigmoid(x))"
   ]
  },
  {
   "cell_type": "code",
   "execution_count": 52,
   "metadata": {},
   "outputs": [
    {
     "data": {
      "text/plain": [
       "array([  4.53978687e-05,   5.01721647e-05,   5.54485247e-05,\n",
       "         6.12797396e-05,   6.77241496e-05,   7.48462275e-05,\n",
       "         8.27172229e-05,   9.14158739e-05,   1.01029194e-04,\n",
       "         1.11653341e-04,   1.23394576e-04,   1.36370327e-04,\n",
       "         1.50710358e-04,   1.66558065e-04,   1.84071905e-04,\n",
       "         2.03426978e-04,   2.24816770e-04,   2.48455082e-04,\n",
       "         2.74578156e-04,   3.03447030e-04,   3.35350130e-04,\n",
       "         3.70606141e-04,   4.09567165e-04,   4.52622223e-04,\n",
       "         5.00201107e-04,   5.52778637e-04,   6.10879359e-04,\n",
       "         6.75082731e-04,   7.46028834e-04,   8.24424686e-04,\n",
       "         9.11051194e-04,   1.00677082e-03,   1.11253603e-03,\n",
       "         1.22939862e-03,   1.35851995e-03,   1.50118226e-03,\n",
       "         1.65880108e-03,   1.83293894e-03,   2.02532039e-03,\n",
       "         2.23784852e-03,   2.47262316e-03,   2.73196076e-03,\n",
       "         3.01841632e-03,   3.33480731e-03,   3.68423990e-03,\n",
       "         4.07013772e-03,   4.49627316e-03,   4.96680165e-03,\n",
       "         5.48629890e-03,   6.05980149e-03,   6.69285092e-03,\n",
       "         7.39154134e-03,   8.16257115e-03,   9.01329865e-03,\n",
       "         9.95180187e-03,   1.09869426e-02,   1.21284350e-02,\n",
       "         1.33869178e-02,   1.47740317e-02,   1.63024994e-02,\n",
       "         1.79862100e-02,   1.98403057e-02,   2.18812709e-02,\n",
       "         2.41270214e-02,   2.65969936e-02,   2.93122308e-02,\n",
       "         3.22954647e-02,   3.55711893e-02,   3.91657228e-02,\n",
       "         4.31072549e-02,   4.74258732e-02,   5.21535631e-02,\n",
       "         5.73241759e-02,   6.29733561e-02,   6.91384203e-02,\n",
       "         7.58581800e-02,   8.31726965e-02,   9.11229610e-02,\n",
       "         9.97504891e-02,   1.09096821e-01,   1.19202922e-01,\n",
       "         1.30108474e-01,   1.41851065e-01,   1.54465265e-01,\n",
       "         1.67981615e-01,   1.82425524e-01,   1.97816111e-01,\n",
       "         2.14165017e-01,   2.31475217e-01,   2.49739894e-01,\n",
       "         2.68941421e-01,   2.89050497e-01,   3.10025519e-01,\n",
       "         3.31812228e-01,   3.54343694e-01,   3.77540669e-01,\n",
       "         4.01312340e-01,   4.25557483e-01,   4.50166003e-01,\n",
       "         4.75020813e-01,   5.00000000e-01,   5.24979187e-01,\n",
       "         5.49833997e-01,   5.74442517e-01,   5.98687660e-01,\n",
       "         6.22459331e-01,   6.45656306e-01,   6.68187772e-01,\n",
       "         6.89974481e-01,   7.10949503e-01,   7.31058579e-01,\n",
       "         7.50260106e-01,   7.68524783e-01,   7.85834983e-01,\n",
       "         8.02183889e-01,   8.17574476e-01,   8.32018385e-01,\n",
       "         8.45534735e-01,   8.58148935e-01,   8.69891526e-01,\n",
       "         8.80797078e-01,   8.90903179e-01,   9.00249511e-01,\n",
       "         9.08877039e-01,   9.16827304e-01,   9.24141820e-01,\n",
       "         9.30861580e-01,   9.37026644e-01,   9.42675824e-01,\n",
       "         9.47846437e-01,   9.52574127e-01,   9.56892745e-01,\n",
       "         9.60834277e-01,   9.64428811e-01,   9.67704535e-01,\n",
       "         9.70687769e-01,   9.73403006e-01,   9.75872979e-01,\n",
       "         9.78118729e-01,   9.80159694e-01,   9.82013790e-01,\n",
       "         9.83697501e-01,   9.85225968e-01,   9.86613082e-01,\n",
       "         9.87871565e-01,   9.89013057e-01,   9.90048198e-01,\n",
       "         9.90986701e-01,   9.91837429e-01,   9.92608459e-01,\n",
       "         9.93307149e-01,   9.93940199e-01,   9.94513701e-01,\n",
       "         9.95033198e-01,   9.95503727e-01,   9.95929862e-01,\n",
       "         9.96315760e-01,   9.96665193e-01,   9.96981584e-01,\n",
       "         9.97268039e-01,   9.97527377e-01,   9.97762151e-01,\n",
       "         9.97974680e-01,   9.98167061e-01,   9.98341199e-01,\n",
       "         9.98498818e-01,   9.98641480e-01,   9.98770601e-01,\n",
       "         9.98887464e-01,   9.98993229e-01,   9.99088949e-01,\n",
       "         9.99175575e-01,   9.99253971e-01,   9.99324917e-01,\n",
       "         9.99389121e-01,   9.99447221e-01,   9.99499799e-01,\n",
       "         9.99547378e-01,   9.99590433e-01,   9.99629394e-01,\n",
       "         9.99664650e-01,   9.99696553e-01,   9.99725422e-01,\n",
       "         9.99751545e-01,   9.99775183e-01,   9.99796573e-01,\n",
       "         9.99815928e-01,   9.99833442e-01,   9.99849290e-01,\n",
       "         9.99863630e-01,   9.99876605e-01,   9.99888347e-01,\n",
       "         9.99898971e-01,   9.99908584e-01,   9.99917283e-01,\n",
       "         9.99925154e-01,   9.99932276e-01,   9.99938720e-01,\n",
       "         9.99944551e-01,   9.99949828e-01])"
      ]
     },
     "execution_count": 52,
     "metadata": {},
     "output_type": "execute_result"
    }
   ],
   "source": [
    "sigmoid(x)"
   ]
  },
  {
   "cell_type": "code",
   "execution_count": null,
   "metadata": {
    "collapsed": true
   },
   "outputs": [],
   "source": []
  }
 ],
 "metadata": {
  "kernelspec": {
   "display_name": "Python 3",
   "language": "python",
   "name": "python3"
  },
  "language_info": {
   "codemirror_mode": {
    "name": "ipython",
    "version": 3
   },
   "file_extension": ".py",
   "mimetype": "text/x-python",
   "name": "python",
   "nbconvert_exporter": "python",
   "pygments_lexer": "ipython3",
   "version": "3.5.0"
  }
 },
 "nbformat": 4,
 "nbformat_minor": 2
}
