{
 "cells": [
  {
   "cell_type": "code",
   "execution_count": 10,
   "metadata": {},
   "outputs": [
    {
     "name": "stdout",
     "output_type": "stream",
     "text": [
      "<Response [200]>\n",
      "\r\n",
      "\r\n",
      "<!DOCTYPE html>\r\n",
      "<html xmlns=\"http://www.w3.org/1999/xhtml\" xml:lang=\"ko\" lang=\"ko\">\r\n",
      "<head>\r\n",
      "<title>보안뉴스_뉴스</title>\r\n",
      "<meta http-equiv=\"Content-Type\" content=\"text/html; charset=euc-kr\">\r\n",
      "<script type=\"text/javascript\" src=\"/js/jquery-1.12.4.min.js\"></script> \r\n",
      "<script type=\"text/javascript\" src=\"/js/multiScroll.js\"></script>\r\n",
      "\r\n",
      "<link href=\"../css/media.css?version=2.0\" rel=\"stylesheet\" type=\"text/css\">\r\n",
      "<script type=\"text/javascript\">\r\n",
      "<!--\r\n",
      "//스크롤 메뉴바\r\n",
      "$( document ).ready( function() {\r\n",
      "\t$(\"#Second_Menu_area\").hide();\r\n",
      "\r\n",
      "\tvar Second_Offset = $('#Second_Menu_area').offset();\r\n",
      "\t$( window ).scroll( function() {\r\n",
      "\t\tif ( $( document ).scrollTop() > Second_Offset.top ) {\r\n",
      "\t\t\t$('#Second_Menu_area').fadeIn();\r\n",
      "\t\t}else{\r\n",
      "\t\t\t$('#Second_Menu_area').hide();\r\n",
      "\t\t}\r\n",
      "\t});\r\n",
      "});\r\n",
      "\r\n",
      "//스크롤업 헤드라인 뉴스\r\n",
      "var didScroll;\r\n",
      "var lastScrollTop = 0;\r\n",
      "var delta = 5;\r\n",
      "var navbarHeight = $('#scroll_up').outerHeight();\r\n",
      "\r\n",
      "$(window).scroll(function(event){\r\n",
      "\tdidScroll = true;\r\n",
      "});\r\n",
      "\r\n",
      "setInterval(function() {\r\n",
      "\tif (didScroll) {\r\n",
      "\t\thasScrolle\n"
     ]
    }
   ],
   "source": [
    "import requests\n",
    "\n",
    "host = 'https://www.boannews.com/media/t_list.asp'\n",
    "res = requests.get(host)\n",
    "\n",
    "print(res)\n",
    "# print(res.content[:1024])\n",
    "print(res.text[:1024])\n"
   ]
  },
  {
   "cell_type": "code",
   "execution_count": 54,
   "metadata": {},
   "outputs": [
    {
     "data": {
      "text/plain": [
       "[('<', 'NN'),\n",
       " ('!', '.'),\n",
       " ('doctype', 'NN'),\n",
       " ('html', 'NN'),\n",
       " ('>', 'NNP'),\n",
       " ('<', 'NNP'),\n",
       " ('html', 'NN'),\n",
       " ('itemscope=', 'NN'),\n",
       " (\"''\", \"''\"),\n",
       " (\"''\", \"''\"),\n",
       " ('itemtype=', 'NN'),\n",
       " (\"''\", \"''\"),\n",
       " ('http', 'NN'),\n",
       " (':', ':'),\n",
       " ('//schema.org/SearchResultsPage', 'NN'),\n",
       " (\"''\", \"''\"),\n",
       " ('lang=', 'NN'),\n",
       " (\"''\", \"''\"),\n",
       " ('ko', 'NN'),\n",
       " (\"''\", \"''\")]"
      ]
     },
     "execution_count": 54,
     "metadata": {},
     "output_type": "execute_result"
    }
   ],
   "source": [
    "import requests\n",
    "import nltk, re\n",
    "\n",
    "# https://www.google.co.kr/search?\n",
    "#     aqs=chrome..69i64l2j69i60j69i58j69i60j5.3586j0j4&sourceid=chrome&\n",
    "# host = 'https://search.naver.com/search.naver'\n",
    "# my_param = {'where':'nexearch', \n",
    "#             'sm':'top_hty', \n",
    "#             'fbm':'1', \n",
    "#             'ie':'utf8', \n",
    "#             'query':'검색'}\n",
    "\n",
    "host = 'https://www.google.co.kr/search'\n",
    "my_param = {\n",
    "    'q':'영화', \n",
    "    'rlz':'1C5CHFA_enKR730KR730', \n",
    "    'oq':'검색', \n",
    "    'ie':'UTF-8'\n",
    "}\n",
    "\n",
    "res = requests.get(host, params=my_param)\n",
    "text = res.text\n",
    "\n",
    "pattern = r'''(?x)    # set flag to allow verbose regexps\n",
    "([A-Z]\\.)+        # abbreviations, e.g. U.S.A.\n",
    "| \\w+(-\\w+)*        # words with optional internal hyphens\n",
    "| \\$?\\d+(\\.\\d+)?%?  # currency and percentages, e.g. $12.40, 82%\n",
    "| \\.\\.\\.            # ellipsis\n",
    "| [][.,;\"'?():-_`]  # these are separate tokens\n",
    "'''\n",
    "\n",
    "\n",
    "tokens = nltk.word_tokenize(res.text)\n",
    "tagged = nltk.pos_tag(tokens)\n",
    "tagged[:20]"
   ]
  },
  {
   "cell_type": "code",
   "execution_count": 44,
   "metadata": {},
   "outputs": [
    {
     "data": {
      "text/plain": [
       "'\\r\\n\\r\\n<!DOCTYPE html>\\r\\n<html xmlns=\"http://www.w3.org/1999/xhtml\" xml:lang=\"ko\" lang=\"ko\">\\r\\n<head>\\r\\n<title>보안뉴스_뉴스</title>\\r\\n<meta http-equiv=\"Content-Type\" content=\"text/html; charset=euc-kr\">\\r\\n<script type=\"text/javascript\" src=\"/js/jquery-1.12.4.min.js\"></script> \\r\\n<script type=\"text/javascript\" src=\"/js/multiScroll.js\"></script>\\r\\n\\r\\n<link href=\"../css/media.css?version=2.0\" rel=\"stylesheet\" type=\"text/css\">\\r\\n<script type=\"text/javascript\">\\r\\n<!--\\r\\n//스크롤 메뉴바\\r\\n$( document ).ready( function() {\\r\\n\\t$(\"#Second_Menu_area\").hide();\\r\\n\\r\\n\\tvar Second_Offset = $(\\'#Second_Menu_area\\').offset();\\r\\n\\t$( window ).scroll( function() {\\r\\n\\t\\tif ( $( document ).scrollTop() > Second_Offset.top ) {\\r\\n\\t\\t\\t$(\\'#Second_Menu_area\\').fadeIn();\\r\\n\\t\\t}else{\\r\\n\\t\\t\\t$(\\'#Second_Menu_area\\').hide();\\r\\n\\t\\t}\\r\\n\\t});\\r\\n});\\r\\n\\r\\n//스크롤업 헤드라인 뉴스\\r\\nvar didScroll;\\r\\nvar lastScrollTop = 0;\\r\\nvar delta = 5;\\r\\nvar navbarHeight = $(\\'#scroll_up\\').outerHeight();\\r\\n\\r\\n$(window).scroll(function(event){\\r\\n\\tdidScroll = true;\\r\\n});\\r\\n\\r\\nsetInterval(function() {\\r\\n\\tif (didScroll) {\\r\\n\\t\\thasScrolle'"
      ]
     },
     "execution_count": 44,
     "metadata": {},
     "output_type": "execute_result"
    }
   ],
   "source": [
    "import requests\n",
    "import json\n",
    "\n",
    "host = 'https://www.boannews.com/media/t_list.asp'\n",
    "my_data = json.dumps({'id':'gasdbugs', 'pw':'password'})\n",
    "res = requests.post(host, data=my_data)\n",
    "res\n",
    "res.text[:1024]"
   ]
  }
 ],
 "metadata": {
  "kernelspec": {
   "display_name": "Python 3",
   "language": "python",
   "name": "python3"
  },
  "language_info": {
   "codemirror_mode": {
    "name": "ipython",
    "version": 3
   },
   "file_extension": ".py",
   "mimetype": "text/x-python",
   "name": "python",
   "nbconvert_exporter": "python",
   "pygments_lexer": "ipython3",
   "version": "3.6.4"
  }
 },
 "nbformat": 4,
 "nbformat_minor": 2
}
