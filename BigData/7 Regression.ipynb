{
 "cells": [
  {
   "cell_type": "markdown",
   "metadata": {},
   "source": [
    "## 데이터 불러오기"
   ]
  },
  {
   "cell_type": "code",
   "execution_count": 5,
   "metadata": {},
   "outputs": [
    {
     "data": {
      "text/html": [
       "<div>\n",
       "<style scoped>\n",
       "    .dataframe tbody tr th:only-of-type {\n",
       "        vertical-align: middle;\n",
       "    }\n",
       "\n",
       "    .dataframe tbody tr th {\n",
       "        vertical-align: top;\n",
       "    }\n",
       "\n",
       "    .dataframe thead th {\n",
       "        text-align: right;\n",
       "    }\n",
       "</style>\n",
       "<table border=\"1\" class=\"dataframe\">\n",
       "  <thead>\n",
       "    <tr style=\"text-align: right;\">\n",
       "      <th></th>\n",
       "      <th>R&amp;D Spend</th>\n",
       "      <th>Administration</th>\n",
       "      <th>Marketing Spend</th>\n",
       "      <th>State</th>\n",
       "      <th>Profit</th>\n",
       "    </tr>\n",
       "  </thead>\n",
       "  <tbody>\n",
       "    <tr>\n",
       "      <th>0</th>\n",
       "      <td>165349.20</td>\n",
       "      <td>136897.80</td>\n",
       "      <td>471784.10</td>\n",
       "      <td>New York</td>\n",
       "      <td>192261.83</td>\n",
       "    </tr>\n",
       "    <tr>\n",
       "      <th>1</th>\n",
       "      <td>162597.70</td>\n",
       "      <td>151377.59</td>\n",
       "      <td>443898.53</td>\n",
       "      <td>California</td>\n",
       "      <td>191792.06</td>\n",
       "    </tr>\n",
       "    <tr>\n",
       "      <th>2</th>\n",
       "      <td>153441.51</td>\n",
       "      <td>101145.55</td>\n",
       "      <td>407934.54</td>\n",
       "      <td>Florida</td>\n",
       "      <td>191050.39</td>\n",
       "    </tr>\n",
       "    <tr>\n",
       "      <th>3</th>\n",
       "      <td>144372.41</td>\n",
       "      <td>118671.85</td>\n",
       "      <td>383199.62</td>\n",
       "      <td>New York</td>\n",
       "      <td>182901.99</td>\n",
       "    </tr>\n",
       "    <tr>\n",
       "      <th>4</th>\n",
       "      <td>142107.34</td>\n",
       "      <td>91391.77</td>\n",
       "      <td>366168.42</td>\n",
       "      <td>Florida</td>\n",
       "      <td>166187.94</td>\n",
       "    </tr>\n",
       "  </tbody>\n",
       "</table>\n",
       "</div>"
      ],
      "text/plain": [
       "   R&D Spend  Administration  Marketing Spend       State     Profit\n",
       "0  165349.20       136897.80        471784.10    New York  192261.83\n",
       "1  162597.70       151377.59        443898.53  California  191792.06\n",
       "2  153441.51       101145.55        407934.54     Florida  191050.39\n",
       "3  144372.41       118671.85        383199.62    New York  182901.99\n",
       "4  142107.34        91391.77        366168.42     Florida  166187.94"
      ]
     },
     "execution_count": 5,
     "metadata": {},
     "output_type": "execute_result"
    }
   ],
   "source": [
    "import pandas as pd\n",
    "\n",
    "path = '50_Startups.csv'\n",
    "df1 = pd.read_csv(path) \n",
    "df1.head()"
   ]
  },
  {
   "cell_type": "code",
   "execution_count": 25,
   "metadata": {},
   "outputs": [
    {
     "data": {
      "text/plain": [
       "(array([[165349.2, 136897.8, 471784.1],\n",
       "        [162597.7, 151377.59, 443898.53],\n",
       "        [153441.51, 101145.55, 407934.54],\n",
       "        [144372.41, 118671.85, 383199.62],\n",
       "        [142107.34, 91391.77, 366168.42],\n",
       "        [131876.9, 99814.71, 362861.36],\n",
       "        [134615.46, 147198.87, 127716.82],\n",
       "        [130298.13, 145530.06, 323876.68],\n",
       "        [120542.52, 148718.95, 311613.29],\n",
       "        [123334.88, 108679.17, 304981.62],\n",
       "        [101913.08, 110594.11, 229160.95],\n",
       "        [100671.96, 91790.61, 249744.55],\n",
       "        [93863.75, 127320.38, 249839.44],\n",
       "        [91992.39, 135495.07, 252664.93],\n",
       "        [119943.24, 156547.42, 256512.92],\n",
       "        [114523.61, 122616.84, 261776.23],\n",
       "        [78013.11, 121597.55, 264346.06],\n",
       "        [94657.16, 145077.58, 282574.31],\n",
       "        [91749.16, 114175.79, 294919.57],\n",
       "        [86419.7, 153514.11, 0.0],\n",
       "        [76253.86, 113867.3, 298664.47],\n",
       "        [78389.47, 153773.43, 299737.29],\n",
       "        [73994.56, 122782.75, 303319.26],\n",
       "        [67532.53, 105751.03, 304768.73],\n",
       "        [77044.01, 99281.34, 140574.81],\n",
       "        [64664.71, 139553.16, 137962.62],\n",
       "        [75328.87, 144135.98, 134050.07],\n",
       "        [72107.6, 127864.55, 353183.81],\n",
       "        [66051.52, 182645.56, 118148.2],\n",
       "        [65605.48, 153032.06, 107138.38],\n",
       "        [61994.48, 115641.28, 91131.24],\n",
       "        [61136.38, 152701.92, 88218.23],\n",
       "        [63408.86, 129219.61, 46085.25],\n",
       "        [55493.95, 103057.49, 214634.81],\n",
       "        [46426.07, 157693.92, 210797.67],\n",
       "        [46014.02, 85047.44, 205517.64],\n",
       "        [28663.76, 127056.21, 201126.82],\n",
       "        [44069.95, 51283.14, 197029.42],\n",
       "        [20229.59, 65947.93, 185265.1],\n",
       "        [38558.51, 82982.09, 174999.3],\n",
       "        [28754.33, 118546.05, 172795.67],\n",
       "        [27892.92, 84710.77, 164470.71],\n",
       "        [23640.93, 96189.63, 148001.11],\n",
       "        [15505.73, 127382.3, 35534.17],\n",
       "        [22177.74, 154806.14, 28334.72],\n",
       "        [1000.23, 124153.04, 1903.93],\n",
       "        [1315.46, 115816.21, 297114.46],\n",
       "        [0.0, 135426.92, 0.0],\n",
       "        [542.05, 51743.15, 0.0],\n",
       "        [0.0, 116983.8, 45173.06]], dtype=object),\n",
       " array([192261.83, 191792.06, 191050.39, 182901.99, 166187.94, 156991.12,\n",
       "        156122.51, 155752.6, 152211.77, 149759.96, 146121.95, 144259.4,\n",
       "        141585.52, 134307.35, 132602.65, 129917.04, 126992.93, 125370.37,\n",
       "        124266.9, 122776.86, 118474.03, 111313.02, 110352.25, 108733.99,\n",
       "        108552.04, 107404.34, 105733.54, 105008.31, 103282.38, 101004.64,\n",
       "        99937.59, 97483.56, 97427.84, 96778.92, 96712.8, 96479.51,\n",
       "        90708.19, 89949.14, 81229.06, 81005.76, 78239.91, 77798.83,\n",
       "        71498.49, 69758.98, 65200.33, 64926.08, 49490.75, 42559.73,\n",
       "        35673.41, 14681.4], dtype=object))"
      ]
     },
     "execution_count": 25,
     "metadata": {},
     "output_type": "execute_result"
    }
   ],
   "source": [
    "x = df1.values[:,:-2]\n",
    "y = df1.values[:,-1] \n",
    "x, y"
   ]
  },
  {
   "cell_type": "code",
   "execution_count": 24,
   "metadata": {},
   "outputs": [
    {
     "data": {
      "text/plain": [
       "(array([[55493.95, 103057.49, 214634.81],\n",
       "        [46014.02, 85047.44, 205517.64],\n",
       "        [75328.87, 144135.98, 134050.07],\n",
       "        [46426.07, 157693.92, 210797.67],\n",
       "        [91749.16, 114175.79, 294919.57],\n",
       "        [130298.13, 145530.06, 323876.68],\n",
       "        [119943.24, 156547.42, 256512.92],\n",
       "        [1000.23, 124153.04, 1903.93],\n",
       "        [542.05, 51743.15, 0.0],\n",
       "        [65605.48, 153032.06, 107138.38],\n",
       "        [114523.61, 122616.84, 261776.23],\n",
       "        [61994.48, 115641.28, 91131.24],\n",
       "        [63408.86, 129219.61, 46085.25],\n",
       "        [78013.11, 121597.55, 264346.06],\n",
       "        [23640.93, 96189.63, 148001.11],\n",
       "        [76253.86, 113867.3, 298664.47],\n",
       "        [15505.73, 127382.3, 35534.17],\n",
       "        [120542.52, 148718.95, 311613.29],\n",
       "        [91992.39, 135495.07, 252664.93],\n",
       "        [64664.71, 139553.16, 137962.62],\n",
       "        [131876.9, 99814.71, 362861.36],\n",
       "        [94657.16, 145077.58, 282574.31],\n",
       "        [28754.33, 118546.05, 172795.67],\n",
       "        [0.0, 116983.8, 45173.06],\n",
       "        [162597.7, 151377.59, 443898.53],\n",
       "        [93863.75, 127320.38, 249839.44],\n",
       "        [44069.95, 51283.14, 197029.42],\n",
       "        [77044.01, 99281.34, 140574.81],\n",
       "        [134615.46, 147198.87, 127716.82],\n",
       "        [67532.53, 105751.03, 304768.73],\n",
       "        [28663.76, 127056.21, 201126.82],\n",
       "        [78389.47, 153773.43, 299737.29],\n",
       "        [86419.7, 153514.11, 0.0],\n",
       "        [123334.88, 108679.17, 304981.62],\n",
       "        [38558.51, 82982.09, 174999.3],\n",
       "        [1315.46, 115816.21, 297114.46],\n",
       "        [144372.41, 118671.85, 383199.62],\n",
       "        [165349.2, 136897.8, 471784.1],\n",
       "        [0.0, 135426.92, 0.0],\n",
       "        [22177.74, 154806.14, 28334.72]], dtype=object),\n",
       " array([[66051.52, 182645.56, 118148.2],\n",
       "        [100671.96, 91790.61, 249744.55],\n",
       "        [101913.08, 110594.11, 229160.95],\n",
       "        [27892.92, 84710.77, 164470.71],\n",
       "        [153441.51, 101145.55, 407934.54],\n",
       "        [72107.6, 127864.55, 353183.81],\n",
       "        [20229.59, 65947.93, 185265.1],\n",
       "        [61136.38, 152701.92, 88218.23],\n",
       "        [73994.56, 122782.75, 303319.26],\n",
       "        [142107.34, 91391.77, 366168.42]], dtype=object))"
      ]
     },
     "execution_count": 24,
     "metadata": {},
     "output_type": "execute_result"
    }
   ],
   "source": [
    "from sklearn.model_selection import train_test_split\n",
    "x_train, x_test, y_train, y_test = train_test_split(x, y, test_size=0.2, random_state=0)\n",
    "x_train, x_test"
   ]
  },
  {
   "cell_type": "markdown",
   "metadata": {},
   "source": [
    "## linear"
   ]
  },
  {
   "cell_type": "code",
   "execution_count": 16,
   "metadata": {},
   "outputs": [
    {
     "data": {
      "text/plain": [
       "LinearRegression(copy_X=True, fit_intercept=True, n_jobs=1, normalize=False)"
      ]
     },
     "execution_count": 16,
     "metadata": {},
     "output_type": "execute_result"
    }
   ],
   "source": [
    "from sklearn import linear_model \n",
    "reg = linear_model.LinearRegression()\n",
    "reg.fit(x_train, y_train)"
   ]
  },
  {
   "cell_type": "code",
   "execution_count": 17,
   "metadata": {},
   "outputs": [
    {
     "data": {
      "text/plain": [
       "array([0.77884104, 0.0293919 , 0.03471025])"
      ]
     },
     "execution_count": 17,
     "metadata": {},
     "output_type": "execute_result"
    }
   ],
   "source": [
    "reg.coef_"
   ]
  },
  {
   "cell_type": "code",
   "execution_count": 19,
   "metadata": {},
   "outputs": [
    {
     "name": "stdout",
     "output_type": "stream",
     "text": [
      "R&D Spend : 0.7788410440821667\n",
      "Administration : 0.029391899097552694\n",
      "Marketing Spend : 0.034710254869420344\n"
     ]
    }
   ],
   "source": [
    "for i, j in zip(['R&D Spend', 'Administration', 'Marketing Spend'], reg.coef_):\n",
    "    print(i,\":\",j)"
   ]
  },
  {
   "cell_type": "code",
   "execution_count": 21,
   "metadata": {},
   "outputs": [
    {
     "data": {
      "text/plain": [
       "(array([103901.8969696 , 132763.05993126, 133567.90370044,  72911.78976736,\n",
       "        179627.92567224, 115166.64864795,  67113.5769057 ,  98154.80686776,\n",
       "        114756.11555221, 169064.01408795]),\n",
       " array([103282.38, 144259.4, 146121.95, 77798.83, 191050.39, 105008.31,\n",
       "        81229.06, 97483.56, 110352.25, 166187.94], dtype=object))"
      ]
     },
     "execution_count": 21,
     "metadata": {},
     "output_type": "execute_result"
    }
   ],
   "source": [
    "reg.predict(x_test), y_test"
   ]
  },
  {
   "cell_type": "code",
   "execution_count": 23,
   "metadata": {},
   "outputs": [
    {
     "data": {
      "text/plain": [
       "0.9393955917820571"
      ]
     },
     "execution_count": 23,
     "metadata": {},
     "output_type": "execute_result"
    }
   ],
   "source": [
    "reg.score(x_test, y_test)"
   ]
  },
  {
   "cell_type": "markdown",
   "metadata": {},
   "source": [
    "## SVR"
   ]
  },
  {
   "cell_type": "code",
   "execution_count": 32,
   "metadata": {},
   "outputs": [
    {
     "data": {
      "text/plain": [
       "SVR(C=1.0, cache_size=200, coef0=0.0, degree=3, epsilon=0.1, gamma='auto',\n",
       "  kernel='rbf', max_iter=-1, shrinking=True, tol=0.001, verbose=False)"
      ]
     },
     "execution_count": 32,
     "metadata": {},
     "output_type": "execute_result"
    }
   ],
   "source": [
    "from sklearn.svm import SVR\n",
    "\n",
    "svr = SVR()\n",
    "svr.fit(x_train, y_train)"
   ]
  },
  {
   "cell_type": "code",
   "execution_count": 33,
   "metadata": {},
   "outputs": [
    {
     "data": {
      "text/plain": [
       "array([107978.19, 107978.19, 107978.19, 107978.19, 107978.19, 107978.19,\n",
       "       107978.19, 107978.19, 107978.19, 107978.19])"
      ]
     },
     "execution_count": 33,
     "metadata": {},
     "output_type": "execute_result"
    }
   ],
   "source": [
    "svr.predict(x_test)"
   ]
  },
  {
   "cell_type": "code",
   "execution_count": 34,
   "metadata": {},
   "outputs": [
    {
     "data": {
      "text/plain": [
       "-0.15987876371363097"
      ]
     },
     "execution_count": 34,
     "metadata": {},
     "output_type": "execute_result"
    }
   ],
   "source": [
    "svr.score(x_test, y_test)"
   ]
  },
  {
   "cell_type": "code",
   "execution_count": null,
   "metadata": {},
   "outputs": [],
   "source": []
  }
 ],
 "metadata": {
  "kernelspec": {
   "display_name": "Python 3",
   "language": "python",
   "name": "python3"
  },
  "language_info": {
   "codemirror_mode": {
    "name": "ipython",
    "version": 3
   },
   "file_extension": ".py",
   "mimetype": "text/x-python",
   "name": "python",
   "nbconvert_exporter": "python",
   "pygments_lexer": "ipython3",
   "version": "3.6.5"
  }
 },
 "nbformat": 4,
 "nbformat_minor": 2
}
