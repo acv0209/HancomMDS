{
 "cells": [
  {
   "cell_type": "code",
   "execution_count": 6,
   "metadata": {},
   "outputs": [
    {
     "name": "stdout",
     "output_type": "stream",
     "text": [
      "200\n",
      "None\n",
      "b'<html>\\n<head>\\n\\t<title>Malware-Traffic-Analysis.net</title>\\n<link href=\"style.css\" rel=\"stylesheet\" type=\"text/css\" />\\n\\n</head>\\n\\n<meta name=\"description\" content=\"A source for pcap files and malware samples. Since the summer of 2013, this site has published over 1,500 blog entries about malware or malicious network traffic. Almost every post on this site has pcap files or malware samples (or both).\">\\n\\n<body>\\n\\n<center><a href=\"index.html\"><img border=\"0\" src=\"site-logo-01.gif\"></a></center>\\n\\n<div id=\"main_content\">\\n<HR>\\n\\n<center>\\n<a href=\"blog-entries.rss\" class=\"menu_link\"><img src=\"xml_icon.gif\"></a> <a href=\"blog-entries.rss\" class=\"menu_link\">RSS feed</a></li>\\n &nbsp; &nbsp; &nbsp; &nbsp; &nbsp; &nbsp; &nbsp; &nbsp; &nbsp; &nbsp;\\n<a href=\"about.html\" class=\"main_menu\">About this blog</a></li>\\n &nbsp; &nbsp; &nbsp; &nbsp; &nbsp; &nbsp; \\n<a class=\"menu_link\" href=\"http://twitter.com/malware_traffic\">@malware_traffic on Twitter</a>\\n</center>\\n\\n<HR>\\n\\n<center><H2>A source for pcap files and malware samples...</H2></center>\\n\\n<center>Since the summer of 2013, this site has published over 1,500 blog entries about malicious network traffic.&nbsp; Almost every post on this site has pcap files or malware samples (or both).</center>\\n\\n<H2>Traffic Analysis Exercises</H2>\\n\\n<UL>\\n<LI><a href=\"training-exercises.html\" class=\"list_header\">Click here</a> -- for training exercises to analyze pcap files of network traffic. &nbsp; &nbsp; <a href=\"tutorials/index.html\" class=\"list_header\">Click here</a> -- for some tutorials that will help for these exercises.</LI>\\n</UL>\\n\\n<H2>My Technical Blog Posts</H2>\\n\\n<UL>\\n<LI>Click on the appropriate year for the blog posts I\\'ve done - [ <a href=\"2013/index.html\" class=\"list_header\">2013</a> ] - [ <a href=\"2014/index.html\" class=\"list_header\">2014</a> ] - [ <a href=\"2015/index.html\" class=\"list_header\">2015</a> ] - [ <a href=\"2016/index.html\" class=\"list_header\">2016</a> ] - [ <a href=\"2017/index.html\" class=\"list_header\">2017</a> ] - [ <a href=\"2018/index.html\" class=\"list_header\">2018</a> ]</LI>\\n</UL>\\n\\n<H2>My Non-Technical Blog Posts</H2>\\n\\n<UL>\\n<LI><a href=\"non-technical-blog-entries.html\" class=\"list_header\">Click here</a> -- for non-technical blog posts I\\'ve written about on topics related to information security (infosec).</LI>\\n</UL>\\n\\n<H2>Guest Blog Posts</H2>\\n\\n<UL>\\n<LI><a href=\"guest-blog-entries.html\" class=\"list_header\">Click here</a> -- for write-ups from other people that I\\'ve edited and posted here on the blog.</LI>\\n</UL>\\n\\n<p>&nbsp;</p>\\n\\n<HR>\\n\\n<div id=\"footer\"><strong>Copyright &copy; 2018</strong> | <a href=\"index.html\">Malware-Traffic-Analysis.net</a> </div>\\n\\n</div>\\n</div>\\n</body>\\n\\n</html>\\n'\n"
     ]
    }
   ],
   "source": [
    "import requests \n",
    "\n",
    "host = \"https://www.malware-traffic-analysis.net/\"\n",
    "res = requests.get(host)\n",
    "\n",
    "print(res.status_code)\n",
    "print(res.raise_for_status())\n",
    "print(res.content)\n",
    "#print(res.text)"
   ]
  }
 ],
 "metadata": {
  "kernelspec": {
   "display_name": "Python 3",
   "language": "python",
   "name": "python3"
  },
  "language_info": {
   "codemirror_mode": {
    "name": "ipython",
    "version": 3
   },
   "file_extension": ".py",
   "mimetype": "text/x-python",
   "name": "python",
   "nbconvert_exporter": "python",
   "pygments_lexer": "ipython3",
   "version": "3.6.5"
  }
 },
 "nbformat": 4,
 "nbformat_minor": 2
}
